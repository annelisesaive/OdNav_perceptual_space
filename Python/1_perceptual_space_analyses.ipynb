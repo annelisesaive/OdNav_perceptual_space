{
 "cells": [
  {
   "cell_type": "code",
   "execution_count": 30,
   "id": "5d28bfac",
   "metadata": {},
   "outputs": [],
   "source": [
    "import pandas as pd\n",
    "import numpy as np\n",
    "import os\n",
    "from functions_distance import *"
   ]
  },
  {
   "cell_type": "code",
   "execution_count": 2,
   "id": "188b6b55",
   "metadata": {},
   "outputs": [],
   "source": [
    "path_data = '/Users/alouette/Documents/Perceptual_Space_ALS/'"
   ]
  },
  {
   "cell_type": "markdown",
   "id": "6236c9fb",
   "metadata": {},
   "source": [
    "### Compute distance for each sensory modality\n",
    "Euclidian distance based on 2 first dimension of PCA space "
   ]
  },
  {
   "cell_type": "code",
   "execution_count": 3,
   "id": "f8ca7951",
   "metadata": {},
   "outputs": [],
   "source": [
    "stims = ['music','face','odor']\n",
    "nb_stim = 18\n",
    "\n",
    "for stim in stims:\n",
    "    files_pca = [f for f in os.listdir(path_data + 'df_pca/') if f.endswith(stim+'_PCA.csv')]\n",
    "\n",
    "    all_dist = np.zeros((nb_pairs(nb_stim),len(files_pca)))\n",
    "    all_sub = []\n",
    "    for i, f in enumerate(files_pca):\n",
    "        df = pd.read_csv(path_data+'df_pca/'+ f, index_col=0)\n",
    "        pairs = define_pairs(df.stimulus_name)\n",
    "        dist = compute_all_dist(df, pairs, name_col='stimulus_name',\n",
    "                           x_col='coord.Dim.1', y_col='coord.Dim.2')\n",
    "        all_dist[:,i] += dist\n",
    "        all_sub.append(df.subject.values[0])\n",
    "\n",
    "    data_df = np.concatenate((np.array(pairs),all_dist),axis=1)\n",
    "    df_all = pd.DataFrame(data=data_df, columns=['p0','p1']+all_sub)\n",
    "    df_all.to_csv(path_data+'Python/all_dist_stim='+stim+'.csv')"
   ]
  },
  {
   "cell_type": "markdown",
   "id": "9550bf11",
   "metadata": {},
   "source": [
    "### Compare perceptual space\n",
    "Compare the consistency (R) btw space across subject for each sensory modality"
   ]
  },
  {
   "cell_type": "code",
   "execution_count": 50,
   "id": "297cf540",
   "metadata": {},
   "outputs": [],
   "source": [
    "from scipy import stats\n",
    "\n",
    "def compute_all_R(df, pairs):\n",
    "    \"\"\"\n",
    "    compute all correlations btw all pairs of data\n",
    "    \"\"\"\n",
    "    corr = np.zeros((len(pairs)))\n",
    "    for i, p in enumerate(pairs):\n",
    "        a1 = np.squeeze(df[[p[0]]].values)\n",
    "        a2 = np.squeeze(df[[p[1]]].values)\n",
    "        r = stats.pearsonr(a1, a2)\n",
    "        corr[i] += r\n",
    "    return corr \n",
    "\n",
    "def define_pairs(names):\n",
    "    \"\"\"\n",
    "    compute all pairs of 2 stim to compare\n",
    "    \"\"\"\n",
    "    pairs = [(p0, p1) for p0, p1 in combinations(names,2)]\n",
    "    return pairs\n"
   ]
  },
  {
   "cell_type": "code",
   "execution_count": 52,
   "id": "fbb1ddad",
   "metadata": {},
   "outputs": [
    {
     "ename": "KeyError",
     "evalue": "\"None of [Int64Index([1], dtype='int64')] are in the [columns]\"",
     "output_type": "error",
     "traceback": [
      "\u001b[0;31m---------------------------------------------------------------------------\u001b[0m",
      "\u001b[0;31mKeyError\u001b[0m                                  Traceback (most recent call last)",
      "Input \u001b[0;32mIn [52]\u001b[0m, in \u001b[0;36m<cell line: 7>\u001b[0;34m()\u001b[0m\n\u001b[1;32m      5\u001b[0m subj \u001b[38;5;241m=\u001b[39m [c \u001b[38;5;28;01mfor\u001b[39;00m c \u001b[38;5;129;01min\u001b[39;00m df\u001b[38;5;241m.\u001b[39mcolumns \u001b[38;5;28;01mif\u001b[39;00m c \u001b[38;5;129;01mnot\u001b[39;00m \u001b[38;5;129;01min\u001b[39;00m [\u001b[38;5;124m'\u001b[39m\u001b[38;5;124mp0\u001b[39m\u001b[38;5;124m'\u001b[39m,\u001b[38;5;124m'\u001b[39m\u001b[38;5;124mp1\u001b[39m\u001b[38;5;124m'\u001b[39m]]\n\u001b[1;32m      6\u001b[0m pairs_su \u001b[38;5;241m=\u001b[39m define_pairs(subj)\n\u001b[0;32m----> 7\u001b[0m corr \u001b[38;5;241m=\u001b[39m \u001b[43mcompute_all_R\u001b[49m\u001b[43m(\u001b[49m\u001b[43mdf\u001b[49m\u001b[43m,\u001b[49m\u001b[43m \u001b[49m\u001b[43mpairs\u001b[49m\u001b[43m)\u001b[49m\n\u001b[1;32m      8\u001b[0m \u001b[38;5;28mprint\u001b[39m(corr)\n",
      "Input \u001b[0;32mIn [50]\u001b[0m, in \u001b[0;36mcompute_all_R\u001b[0;34m(df, pairs)\u001b[0m\n\u001b[1;32m      7\u001b[0m corr \u001b[38;5;241m=\u001b[39m np\u001b[38;5;241m.\u001b[39mzeros((\u001b[38;5;28mlen\u001b[39m(pairs)))\n\u001b[1;32m      8\u001b[0m \u001b[38;5;28;01mfor\u001b[39;00m i, p \u001b[38;5;129;01min\u001b[39;00m \u001b[38;5;28menumerate\u001b[39m(pairs):\n\u001b[0;32m----> 9\u001b[0m     a1 \u001b[38;5;241m=\u001b[39m np\u001b[38;5;241m.\u001b[39msqueeze(\u001b[43mdf\u001b[49m\u001b[43m[\u001b[49m\u001b[43m[\u001b[49m\u001b[43mp\u001b[49m\u001b[43m[\u001b[49m\u001b[38;5;241;43m0\u001b[39;49m\u001b[43m]\u001b[49m\u001b[43m]\u001b[49m\u001b[43m]\u001b[49m\u001b[38;5;241m.\u001b[39mvalues)\n\u001b[1;32m     10\u001b[0m     a2 \u001b[38;5;241m=\u001b[39m np\u001b[38;5;241m.\u001b[39msqueeze(df[[p[\u001b[38;5;241m1\u001b[39m]]]\u001b[38;5;241m.\u001b[39mvalues)\n\u001b[1;32m     11\u001b[0m     r \u001b[38;5;241m=\u001b[39m stats\u001b[38;5;241m.\u001b[39mpearsonr(a1, a2)\n",
      "File \u001b[0;32m~/opt/anaconda3/lib/python3.9/site-packages/pandas/core/frame.py:3511\u001b[0m, in \u001b[0;36mDataFrame.__getitem__\u001b[0;34m(self, key)\u001b[0m\n\u001b[1;32m   3509\u001b[0m     \u001b[38;5;28;01mif\u001b[39;00m is_iterator(key):\n\u001b[1;32m   3510\u001b[0m         key \u001b[38;5;241m=\u001b[39m \u001b[38;5;28mlist\u001b[39m(key)\n\u001b[0;32m-> 3511\u001b[0m     indexer \u001b[38;5;241m=\u001b[39m \u001b[38;5;28;43mself\u001b[39;49m\u001b[38;5;241;43m.\u001b[39;49m\u001b[43mcolumns\u001b[49m\u001b[38;5;241;43m.\u001b[39;49m\u001b[43m_get_indexer_strict\u001b[49m\u001b[43m(\u001b[49m\u001b[43mkey\u001b[49m\u001b[43m,\u001b[49m\u001b[43m \u001b[49m\u001b[38;5;124;43m\"\u001b[39;49m\u001b[38;5;124;43mcolumns\u001b[39;49m\u001b[38;5;124;43m\"\u001b[39;49m\u001b[43m)\u001b[49m[\u001b[38;5;241m1\u001b[39m]\n\u001b[1;32m   3513\u001b[0m \u001b[38;5;66;03m# take() does not accept boolean indexers\u001b[39;00m\n\u001b[1;32m   3514\u001b[0m \u001b[38;5;28;01mif\u001b[39;00m \u001b[38;5;28mgetattr\u001b[39m(indexer, \u001b[38;5;124m\"\u001b[39m\u001b[38;5;124mdtype\u001b[39m\u001b[38;5;124m\"\u001b[39m, \u001b[38;5;28;01mNone\u001b[39;00m) \u001b[38;5;241m==\u001b[39m \u001b[38;5;28mbool\u001b[39m:\n",
      "File \u001b[0;32m~/opt/anaconda3/lib/python3.9/site-packages/pandas/core/indexes/base.py:5782\u001b[0m, in \u001b[0;36mIndex._get_indexer_strict\u001b[0;34m(self, key, axis_name)\u001b[0m\n\u001b[1;32m   5779\u001b[0m \u001b[38;5;28;01melse\u001b[39;00m:\n\u001b[1;32m   5780\u001b[0m     keyarr, indexer, new_indexer \u001b[38;5;241m=\u001b[39m \u001b[38;5;28mself\u001b[39m\u001b[38;5;241m.\u001b[39m_reindex_non_unique(keyarr)\n\u001b[0;32m-> 5782\u001b[0m \u001b[38;5;28;43mself\u001b[39;49m\u001b[38;5;241;43m.\u001b[39;49m\u001b[43m_raise_if_missing\u001b[49m\u001b[43m(\u001b[49m\u001b[43mkeyarr\u001b[49m\u001b[43m,\u001b[49m\u001b[43m \u001b[49m\u001b[43mindexer\u001b[49m\u001b[43m,\u001b[49m\u001b[43m \u001b[49m\u001b[43maxis_name\u001b[49m\u001b[43m)\u001b[49m\n\u001b[1;32m   5784\u001b[0m keyarr \u001b[38;5;241m=\u001b[39m \u001b[38;5;28mself\u001b[39m\u001b[38;5;241m.\u001b[39mtake(indexer)\n\u001b[1;32m   5785\u001b[0m \u001b[38;5;28;01mif\u001b[39;00m \u001b[38;5;28misinstance\u001b[39m(key, Index):\n\u001b[1;32m   5786\u001b[0m     \u001b[38;5;66;03m# GH 42790 - Preserve name from an Index\u001b[39;00m\n",
      "File \u001b[0;32m~/opt/anaconda3/lib/python3.9/site-packages/pandas/core/indexes/base.py:5842\u001b[0m, in \u001b[0;36mIndex._raise_if_missing\u001b[0;34m(self, key, indexer, axis_name)\u001b[0m\n\u001b[1;32m   5840\u001b[0m     \u001b[38;5;28;01mif\u001b[39;00m use_interval_msg:\n\u001b[1;32m   5841\u001b[0m         key \u001b[38;5;241m=\u001b[39m \u001b[38;5;28mlist\u001b[39m(key)\n\u001b[0;32m-> 5842\u001b[0m     \u001b[38;5;28;01mraise\u001b[39;00m \u001b[38;5;167;01mKeyError\u001b[39;00m(\u001b[38;5;124mf\u001b[39m\u001b[38;5;124m\"\u001b[39m\u001b[38;5;124mNone of [\u001b[39m\u001b[38;5;132;01m{\u001b[39;00mkey\u001b[38;5;132;01m}\u001b[39;00m\u001b[38;5;124m] are in the [\u001b[39m\u001b[38;5;132;01m{\u001b[39;00maxis_name\u001b[38;5;132;01m}\u001b[39;00m\u001b[38;5;124m]\u001b[39m\u001b[38;5;124m\"\u001b[39m)\n\u001b[1;32m   5844\u001b[0m not_found \u001b[38;5;241m=\u001b[39m \u001b[38;5;28mlist\u001b[39m(ensure_index(key)[missing_mask\u001b[38;5;241m.\u001b[39mnonzero()[\u001b[38;5;241m0\u001b[39m]]\u001b[38;5;241m.\u001b[39munique())\n\u001b[1;32m   5845\u001b[0m \u001b[38;5;28;01mraise\u001b[39;00m \u001b[38;5;167;01mKeyError\u001b[39;00m(\u001b[38;5;124mf\u001b[39m\u001b[38;5;124m\"\u001b[39m\u001b[38;5;132;01m{\u001b[39;00mnot_found\u001b[38;5;132;01m}\u001b[39;00m\u001b[38;5;124m not in index\u001b[39m\u001b[38;5;124m\"\u001b[39m)\n",
      "\u001b[0;31mKeyError\u001b[0m: \"None of [Int64Index([1], dtype='int64')] are in the [columns]\""
     ]
    }
   ],
   "source": [
    "path_df = path_data+'Python/all_dist_stim={}.csv'\n",
    "stim = 'music'\n",
    "\n",
    "df = pd.read_csv(path_df.format(stim), index_col=0)\n",
    "subj = [c for c in df.columns if c not in ['p0','p1']]\n",
    "pairs_su = define_pairs(subj)\n",
    "corr = compute_all_R(df, pairs)\n",
    "print(corr)\n"
   ]
  }
 ],
 "metadata": {
  "kernelspec": {
   "display_name": "Python 3 (ipykernel)",
   "language": "python",
   "name": "python3"
  },
  "language_info": {
   "codemirror_mode": {
    "name": "ipython",
    "version": 3
   },
   "file_extension": ".py",
   "mimetype": "text/x-python",
   "name": "python",
   "nbconvert_exporter": "python",
   "pygments_lexer": "ipython3",
   "version": "3.9.12"
  }
 },
 "nbformat": 4,
 "nbformat_minor": 5
}
