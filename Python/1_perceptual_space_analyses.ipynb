{
 "cells": [
  {
   "cell_type": "code",
   "execution_count": 1,
   "id": "e49d9ee0",
   "metadata": {},
   "outputs": [],
   "source": [
    "import pandas as pd\n",
    "import numpy as np\n",
    "import os\n",
    "from functions_distance import *"
   ]
  },
  {
   "cell_type": "code",
   "execution_count": 2,
   "id": "f5157a57",
   "metadata": {},
   "outputs": [],
   "source": [
    "path_data = '/Users/alouette/Documents/Perceptual_Space_ALS/'"
   ]
  },
  {
   "cell_type": "code",
   "execution_count": 3,
   "id": "872f0cbb",
   "metadata": {},
   "outputs": [],
   "source": [
    "stims = ['music','face','odor']\n",
    "nb_stim = 18\n",
    "\n",
    "for stim in stims:\n",
    "    files_pca = [f for f in os.listdir(path_data + 'df_pca/') if f.endswith(stim+'_PCA.csv')]\n",
    "\n",
    "    all_dist = np.zeros((nb_pairs(nb_stim),len(files_pca)))\n",
    "    all_sub = []\n",
    "    for i, f in enumerate(files_pca):\n",
    "        df = pd.read_csv(path_data+'df_pca/'+ f, index_col=0)\n",
    "        pairs = define_pairs(df.stimulus_name)\n",
    "        dist = compute_all_dist(df, pairs, name_col='stimulus_name',\n",
    "                           x_col='coord.Dim.1', y_col='coord.Dim.2')\n",
    "        all_dist[:,i] += dist\n",
    "        all_sub.append(df.subject.values[0])\n",
    "\n",
    "    data_df = np.concatenate((np.array(pairs),all_dist),axis=1)\n",
    "    df_all = pd.DataFrame(data=data_df, columns=['p0','p1']+all_sub)\n",
    "    df_all.to_csv(path_data+'Python/all_dist_stim='+stim+'.csv')"
   ]
  },
  {
   "cell_type": "code",
   "execution_count": null,
   "id": "209b45b2",
   "metadata": {},
   "outputs": [],
   "source": []
  }
 ],
 "metadata": {
  "kernelspec": {
   "display_name": "Python 3 (ipykernel)",
   "language": "python",
   "name": "python3"
  },
  "language_info": {
   "codemirror_mode": {
    "name": "ipython",
    "version": 3
   },
   "file_extension": ".py",
   "mimetype": "text/x-python",
   "name": "python",
   "nbconvert_exporter": "python",
   "pygments_lexer": "ipython3",
   "version": "3.9.12"
  }
 },
 "nbformat": 4,
 "nbformat_minor": 5
}
