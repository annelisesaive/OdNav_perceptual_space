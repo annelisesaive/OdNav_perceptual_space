{
 "cells": [
  {
   "cell_type": "code",
   "execution_count": 1,
   "id": "4d4fd2b3",
   "metadata": {},
   "outputs": [],
   "source": [
    "import pandas as pd\n",
    "import numpy as np\n",
    "import os\n",
    "from utils_dist_corr import *\n",
    "from scipy.stats import spearmanr\n",
    "import pingouin as pg \n",
    "import matplotlib.pyplot as plt"
   ]
  },
  {
   "cell_type": "code",
   "execution_count": 2,
   "id": "7475e271",
   "metadata": {},
   "outputs": [],
   "source": [
    "path_script = '/Users/alouette/Documents/Perceptual_Space_ALS/Python/'\n",
    "path_pca = '/Users/alouette/Documents/Perceptual_Space_ALS/df_pca/'"
   ]
  },
  {
   "cell_type": "markdown",
   "id": "2a7d23da",
   "metadata": {},
   "source": [
    "### Compute physical space + get data from encoding (pos, box, stim)"
   ]
  },
  {
   "cell_type": "code",
   "execution_count": null,
   "id": "3dcdd273",
   "metadata": {},
   "outputs": [],
   "source": [
    "pca_name = path_data+'evals_su={}_stim=ALL_ALL_PCA.csv'\n",
    "stims = ['music','odor','face']\n",
    "\n",
    "#get encoding config by subj + box coordinates\n",
    "df_enc = pd.read_csv(path_script+'all_encodage.csv')\n",
    "df_xy = pd.read_csv(path_script+'df_boxes.csv',index_col=0)\n",
    "pairs = define_pairs(df_xy['box'])\n",
    "dist = compute_all_dist(df_xy, pairs, name_col='box',\n",
    "                           x_col='x', y_col='y')\n",
    "phys_ = np.concatenate((np.array(pairs,dtype=str),dist[:,np.newaxis]),axis=1)\n",
    "df_phys = pd.DataFrame(data=phys_, columns=['box1','box2','dist_phys'])\n",
    "df_phys.to_csv(path_script+'df_phys_space_boxes.csv',index=False)\n",
    "df_phys[['box1','box2']] = df_phys[['box1','box2']].astype(int)\n",
    "\n",
    "#select only non-outliers subjects\n",
    "subjs_sel = pd.read_csv(path_script+'all_evals_clean_n=48.csv')['subject']\n",
    "subjects = np.unique(subjs_sel)\n",
    "\n",
    "#create a df with physical and perceptual distances\n",
    "for su in subjects:\n",
    "    df_su = df_phys\n",
    "    for stim in stims:\n",
    "        #get the correspondance stim > box \n",
    "        conf_su = df_enc[df_enc['subject']==su][['box_num',stim]]\n",
    "        conf_su = conf_su.drop_duplicates()\n",
    "        dict_box = conf_su.set_index('box_num').T.to_dict('list')\n",
    "        \n",
    "        #relabel physical df with corresponding stimuli\n",
    "        df_su[stim+'1'] = [x[0] for x in df_phys['box1'].map(dict_box)]\n",
    "        df_su[stim+'2'] = [x[0] for x in df_phys['box2'].map(dict_box)]\n",
    "    df_su.to_csv(path_pca+'{}_df_pos_box_stim.csv'.format(su), index=False)"
   ]
  },
  {
   "cell_type": "markdown",
   "id": "0390fe25",
   "metadata": {},
   "source": [
    "### Associate physical and perceptual space by subject\n",
    "For each sensory modality - compute the relationship btw physical and perceptual spaces"
   ]
  },
  {
   "cell_type": "code",
   "execution_count": null,
   "id": "fecf2deb",
   "metadata": {},
   "outputs": [],
   "source": [
    "def create_col_pairs_2sides(df, colA, colB):\n",
    "    \"combine info in colA and colB in 2 possible order\"\n",
    "    df['pairs1'] = [c1+c2 for c1, c2 in zip(df[colA],df[colB])]\n",
    "    df['pairs2'] = [c2+c1 for c1, c2 in zip(df[colA],df[colB])]   \n",
    "    return df"
   ]
  },
  {
   "cell_type": "code",
   "execution_count": null,
   "id": "b864c772",
   "metadata": {},
   "outputs": [],
   "source": [
    "stims = ['music','face','odor']\n",
    "\n",
    "R_all = np.zeros((len(subjects),3)) \n",
    "for i,stim in enumerate(stims):\n",
    "    #get all perceptual distance for a sensory modality\n",
    "    df_perc = pd.read_csv(path_script+'all_dist_stim='+stim+'.csv',index_col=0)\n",
    "    subjects = [c for c in df_perc.columns if c not in ('p0','p1')]\n",
    "    \n",
    "    for j,su in enumerate(subjects):\n",
    "        #get encoding stimuli and their physical distance\n",
    "        df_phys = pd.read_csv(path_pca+'{}_df_pos_box_stim.csv'.format(su))\n",
    "        cols_sel = [stim+'1',stim+'2','dist_phys']\n",
    "        df_phys = df_phys[cols_sel]\n",
    "        enc_stim = np.unique(df_phys[[stim+'1',stim+'2']].values)\n",
    "        \n",
    "        #get perceptual distance for encoding stimuli only\n",
    "        df_p_su = df_perc[['p0','p1',su]]\n",
    "        df_p_su = df_p_su.loc[df_p_su['p0'].isin(enc_stim) & df_p_su['p1'].isin(enc_stim)]\n",
    "\n",
    "        #combine infos (whatever the order of the 2 stimuli in each pair) > tricky\n",
    "        df_p_su = create_col_pairs_2sides(df_p_su, colA='p0', colB='p1')\n",
    "        df_phys = create_col_pairs_2sides(df_phys, colA=stim+'1', colB=stim+'2')\n",
    "        \n",
    "        phys_dist = []\n",
    "        for c in df_p_su['pairs1']:\n",
    "            d = df_phys.loc[(df_phys['pairs1']==c) | (df_phys['pairs2']==c)][['dist_phys']]\n",
    "            phys_dist.append(d.values[0][0])\n",
    "        df_p_su['dist_phys'] = phys_dist\n",
    "        \n",
    "        #compute Spearman correlation between 2 spaces\n",
    "        R = spearmanr(df_p_su['dist_phys'],df_p_su[su])[0] #col named by su == perceptual space\n",
    "        R_all[j,i] += R\n",
    "\n",
    "data_all = np.concatenate((np.array(subjects)[:,np.newaxis], R_all),axis=1)\n",
    "df_phys_perc = pd.DataFrame(data=data_all, columns=['subjects']+stims)\n",
    "df_phys_perc[stims].astype(float)\n",
    "df_phys_perc.to_csv(path_script+'df_phys_perc_space_allstims_v=allmod.csv', index=False)"
   ]
  },
  {
   "cell_type": "markdown",
   "id": "fe20c442",
   "metadata": {},
   "source": [
    "### Compare physical - perceptual link across modalities"
   ]
  },
  {
   "cell_type": "code",
   "execution_count": null,
   "id": "346d7d72",
   "metadata": {
    "scrolled": true
   },
   "outputs": [],
   "source": [
    "#load all data (R spearman for all modalitites and subjects)\n",
    "df_R = pd.read_csv(path_script+'df_phys_perc_space_allstims_v=allmod.csv')\n",
    "#print(df_R.describe())\n",
    "\n",
    "# Plot results \n",
    "fig, axes = plt.subplots(nrows=1, ncols=1, figsize=(5,4))\n",
    "df_R.boxplot(column=stims, ax=axes)\n",
    "\n",
    "# Compute 1-way repeated measures ANOVA\n",
    "df_piv = df_R[stims].melt()\n",
    "df_piv.columns = ['stims','phys_perc_R']\n",
    "df_piv['subjects'] = np.concatenate([df_R['subjects']]*3)\n",
    "anova = pg.rm_anova(data=df_piv, dv='phys_perc_R', within='stims',\n",
    "                    subject='subjects')\n",
    "pg.print_table(anova, floatfmt='.3f')\n",
    "\n",
    "# Bonf-corrected post hocs with Hedges'g effect size\n",
    "posthoc = pg.pairwise_tests(data=df_piv, dv='phys_perc_R', within='stims',\n",
    "                            subject='subjects', padjust='bonf')\n",
    "pg.print_table(posthoc, floatfmt='.3f')\n",
    "\n",
    "# Pairwise correlations between sensory modality\n",
    "pair_r = pg.pairwise_corr(df_R, method='pearson')\n",
    "print(pair_r)"
   ]
  },
  {
   "cell_type": "markdown",
   "id": "0dcc28e4",
   "metadata": {},
   "source": [
    "### Correlate Phys-Perc link with behav perf \n",
    "Navigation parameters by participant and memory performance"
   ]
  },
  {
   "cell_type": "markdown",
   "id": "3282fc96",
   "metadata": {},
   "source": [
    "#### ENCODING DATA"
   ]
  },
  {
   "cell_type": "code",
   "execution_count": 40,
   "id": "c867522f",
   "metadata": {
    "collapsed": true
   },
   "outputs": [
    {
     "name": "stdout",
     "output_type": "stream",
     "text": [
      "subjects     object\n",
      "music       float64\n",
      "face        float64\n",
      "odor        float64\n",
      "dtype: object\n",
      "2 df in the same order =>  True\n",
      "2 df in the same order =>  True\n",
      "            X           Y   method alternative   n         r          CI95%  \\\n",
      "0       music        face  pearson   two-sided  48  0.096243  [-0.19, 0.37]   \n",
      "1       music        odor  pearson   two-sided  48  0.115582  [-0.17, 0.39]   \n",
      "2       music      allmod  pearson   two-sided  48  0.658996   [0.46, 0.79]   \n",
      "3       music   nb_clicks  pearson   two-sided  48  0.045236  [-0.24, 0.33]   \n",
      "4       music  avg_clicks  pearson   two-sided  48  0.045236  [-0.24, 0.33]   \n",
      "5        face        odor  pearson   two-sided  48 -0.082238  [-0.36, 0.21]   \n",
      "6        face      allmod  pearson   two-sided  48  0.598254   [0.38, 0.75]   \n",
      "7        face   nb_clicks  pearson   two-sided  48 -0.035378  [-0.32, 0.25]   \n",
      "8        face  avg_clicks  pearson   two-sided  48 -0.035378  [-0.32, 0.25]   \n",
      "9        odor      allmod  pearson   two-sided  48  0.546220   [0.31, 0.72]   \n",
      "10       odor   nb_clicks  pearson   two-sided  48 -0.043356  [-0.32, 0.24]   \n",
      "11       odor  avg_clicks  pearson   two-sided  48 -0.043356  [-0.32, 0.24]   \n",
      "12     allmod   nb_clicks  pearson   two-sided  48 -0.019490   [-0.3, 0.27]   \n",
      "13     allmod  avg_clicks  pearson   two-sided  48 -0.019490   [-0.3, 0.27]   \n",
      "14  nb_clicks  avg_clicks  pearson   two-sided  48  1.000000     [1.0, 1.0]   \n",
      "\n",
      "           p-unc       BF10     power  \n",
      "0   5.152209e-01      0.221  0.099821  \n",
      "1   4.340401e-01      0.242  0.122840  \n",
      "2   3.532767e-07  5.193e+04  0.999651  \n",
      "3   7.601386e-01      0.188  0.060487  \n",
      "4   7.601386e-01      0.188  0.060487  \n",
      "5   5.784265e-01      0.209  0.086004  \n",
      "6   7.097004e-06   3179.905  0.996650  \n",
      "7   8.113204e-01      0.185  0.056268  \n",
      "8   8.113204e-01      0.185  0.056268  \n",
      "9   5.919723e-05    449.304  0.985672  \n",
      "10  7.698302e-01      0.188  0.059601  \n",
      "11  7.698302e-01      0.188  0.059601  \n",
      "12  8.953941e-01      0.181  0.051668  \n",
      "13  8.953941e-01      0.181  0.051668  \n",
      "14  0.000000e+00        inf  1.000000  \n"
     ]
    }
   ],
   "source": [
    "path_mem = '/Users/alouette/Documents/Perceptual_Space_ALS/old/'\n",
    "stims = ['odor','music','face']\n",
    "\n",
    "#load df with R Phys-Perc links by participant\n",
    "df_R = pd.read_csv(path_script+'df_phys_perc_space_allstims_v=allmod.csv')\n",
    "df_R = df_R.sort_values(['subjects'])\n",
    "print(df_R.dtypes)\n",
    "df_R['allmod'] = df_R[stims].mean(axis=1)\n",
    "df_enc = pd.read_csv(path_mem+'all_encodage.csv')\n",
    "\n",
    "#avg nb of clicks by box at encoding\n",
    "df_enc = df_enc.loc[df_enc['subject'].isin(subjects_no_out)]\n",
    "df_gr = df_enc.groupby(['subject']).count().iloc[:,0]\n",
    "\n",
    "#check if 2 df are in the same order and add encoding data\n",
    "print('2 df in the same order => ', any(df_R.subjects == df_gr.index))\n",
    "df_R['nb_clicks'] = df_gr.values\n",
    "\n",
    "df_gr2 = df_enc.groupby(['subject','box_num']).count().iloc[:,0].groupby(['subject']).mean()\n",
    "print('2 df in the same order => ', any(df_R.subjects == df_gr2.index))\n",
    "df_R['avg_clicks'] = df_gr2.values\n",
    "\n",
    "# Pairwise correlations between sensory modality\n",
    "pair_r = pg.pairwise_corr(df_R, method='pearson')\n",
    "print(pair_r)"
   ]
  },
  {
   "cell_type": "markdown",
   "id": "37ca7f45",
   "metadata": {},
   "source": [
    "#### RETRIEVAL DATA"
   ]
  },
  {
   "cell_type": "code",
   "execution_count": null,
   "id": "91a17804",
   "metadata": {},
   "outputs": [],
   "source": [
    "path_mem = '/Users/alouette/Documents/Perceptual_Space_ALS/old/'\n",
    "stims = ['odor','music','face']\n",
    "\n",
    "#load df with R Phys-Perc links by participant\n",
    "df_R = pd.read_csv(path_script+'df_phys_perc_space_allstims_v=allmod.csv')\n",
    "df_R = df_R.sort_values(['subjects'])\n",
    "print(df_R.dtypes)\n",
    "df_R['allmod'] = df_R[stims].mean(axis=1)\n",
    "df_enc = pd.read_csv(path_mem+'all_encodage.csv')\n",
    "\n",
    "#avg nb of clicks by box at encoding\n",
    "df_enc = df_enc.loc[df_enc['subject'].isin(subjects_no_out)]\n",
    "df_gr = df_enc.groupby(['subject']).count().iloc[:,0]\n",
    "\n",
    "#check if 2 df are in the same order and add encoding data\n",
    "print('2 df in the same order => ', any(df_R.subjects == df_gr.index))\n",
    "df_R['nb_clicks'] = df_gr.values\n",
    "\n",
    "df_gr2 = df_enc.groupby(['subject','box_num']).count().iloc[:,0].groupby(['subject']).mean()\n",
    "print('2 df in the same order => ', any(df_R.subjects == df_gr2.index))\n",
    "df_R['avg_clicks'] = df_gr2.values\n",
    "\n",
    "# Pairwise correlations between sensory modality\n",
    "pair_r = pg.pairwise_corr(df_R, method='pearson')\n",
    "print(pair_r)"
   ]
  }
 ],
 "metadata": {
  "kernelspec": {
   "display_name": "behav",
   "language": "python",
   "name": "behav"
  },
  "language_info": {
   "codemirror_mode": {
    "name": "ipython",
    "version": 3
   },
   "file_extension": ".py",
   "mimetype": "text/x-python",
   "name": "python",
   "nbconvert_exporter": "python",
   "pygments_lexer": "ipython3",
   "version": "3.10.6"
  }
 },
 "nbformat": 4,
 "nbformat_minor": 5
}
