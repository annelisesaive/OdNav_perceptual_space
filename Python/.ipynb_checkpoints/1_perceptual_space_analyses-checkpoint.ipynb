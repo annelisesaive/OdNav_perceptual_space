{
 "cells": [
  {
   "cell_type": "code",
   "execution_count": 2,
   "id": "4d4fd2b3",
   "metadata": {},
   "outputs": [],
   "source": [
    "import pandas as pd\n",
    "import numpy as np\n",
    "import os\n",
    "from functions_distance import *"
   ]
  },
  {
   "cell_type": "code",
   "execution_count": 3,
   "id": "3dcdd273",
   "metadata": {},
   "outputs": [],
   "source": [
    "path_data = '/Users/alouette/Documents/Perceptual_Space_ALS/'"
   ]
  },
  {
   "cell_type": "markdown",
   "id": "486e5710",
   "metadata": {},
   "source": [
    "## Characterize geometry of perceptual space\n",
    "Euclidian distance based on 2 first dimension of PCA space "
   ]
  },
  {
   "cell_type": "code",
   "execution_count": null,
   "id": "b864c772",
   "metadata": {},
   "outputs": [],
   "source": [
    "stims = ['music','face','odor']\n",
    "nb_stim = 18\n",
    "\n",
    "for stim in stims:\n",
    "    files_pca = [f for f in os.listdir(path_data + 'df_pca/') if f.endswith(stim+'_PCA.csv')]\n",
    "\n",
    "    all_dist = np.zeros((nb_pairs(nb_stim),len(files_pca)))\n",
    "    all_sub = []\n",
    "    for i, f in enumerate(files_pca):\n",
    "        df = pd.read_csv(path_data+'df_pca/'+ f, index_col=0)\n",
    "        pairs = define_pairs(df.stimulus_name)\n",
    "        dist = compute_all_dist(df, pairs, name_col='stimulus_name',\n",
    "                           x_col='coord.Dim.1', y_col='coord.Dim.2')\n",
    "        all_dist[:,i] += dist\n",
    "        all_sub.append(df.subject.values[0])\n",
    "\n",
    "    data_df = np.concatenate((np.array(pairs),all_dist),axis=1)\n",
    "    df_all = pd.DataFrame(data=data_df, columns=['p0','p1']+all_sub)\n",
    "    df_all.to_csv(path_data+'Python/all_dist_stim='+stim+'.csv')"
   ]
  },
  {
   "cell_type": "markdown",
   "id": "4e20d342",
   "metadata": {},
   "source": [
    "## Compare perceptual space\n",
    "Compare the consistency (R) btw space across subject for each sensory modality"
   ]
  },
  {
   "cell_type": "markdown",
   "id": "a0bd19e9",
   "metadata": {},
   "source": [
    "### Compute perceptual spaces' consistency across subjects"
   ]
  },
  {
   "cell_type": "code",
   "execution_count": 18,
   "id": "0aca31db",
   "metadata": {
    "collapsed": true
   },
   "outputs": [
    {
     "name": "stdout",
     "output_type": "stream",
     "text": [
      "             music         face         odor\n",
      "count  1128.000000  1128.000000  1128.000000\n",
      "mean      0.033554     0.035177     0.045371\n",
      "std       0.110783     0.120131     0.114710\n",
      "min      -0.244730    -0.300403    -0.288868\n",
      "25%      -0.045913    -0.046265    -0.035177\n",
      "50%       0.028765     0.029434     0.042509\n",
      "75%       0.103690     0.114200     0.123893\n",
      "max       0.394209     0.424196     0.502203\n"
     ]
    }
   ],
   "source": [
    "path_df = path_data+'Python/all_dist_stim={}.csv'\n",
    "stims = ['music','face','odor']\n",
    "\n",
    "space_r = []\n",
    "for stim in stims:\n",
    "    df = pd.read_csv(path_df.format(stim), index_col=0)\n",
    "    subj = [c for c in df.columns if c not in ['p0','p1']]\n",
    "    pairs_su = define_pairs(subj)\n",
    "    corr = compute_all_R(df, pairs_su, meth='spearman')\n",
    "    space_r.append(corr) \n",
    "space_r = np.transpose(np.vstack(space_r))\n",
    "\n",
    "df_r_var = pd.DataFrame(space_r, columns=stims)\n",
    "print(df_r_var.describe())\n",
    "df_r_var.to_csv(path_data+'Python/btw_subj_consistency_allstims.csv',index=False)"
   ]
  },
  {
   "cell_type": "markdown",
   "id": "f955ae16",
   "metadata": {},
   "source": [
    "### Compare consistencies across modality (+ paired links)"
   ]
  },
  {
   "cell_type": "code",
   "execution_count": 39,
   "id": "582cd7f8",
   "metadata": {
    "collapsed": true
   },
   "outputs": [
    {
     "name": "stdout",
     "output_type": "stream",
     "text": [
      "\n",
      "=============\n",
      "ANOVA SUMMARY\n",
      "=============\n",
      "\n",
      "Source      ddof1    ddof2      F    p-unc    ng2    eps\n",
      "--------  -------  -------  -----  -------  -----  -----\n",
      "stims           2     2254  3.595    0.028  0.002  0.997\n",
      "\n",
      "\n",
      "==============\n",
      "POST HOC TESTS\n",
      "==============\n",
      "\n",
      "Contrast    A      B      Paired    Parametric         T       dof  alternative      p-unc    p-corr  p-adjust      BF10    hedges\n",
      "----------  -----  -----  --------  ------------  ------  --------  -------------  -------  --------  ----------  ------  --------\n",
      "stims       face   music  True      True           0.335  1127.000  two-sided        0.738     1.000  bonf         0.035     0.014\n",
      "stims       face   odor   True      True          -2.110  1127.000  two-sided        0.035     0.105  bonf         0.308    -0.087\n",
      "stims       music  odor   True      True          -2.538  1127.000  two-sided        0.011     0.034  bonf         0.826    -0.105\n",
      "\n",
      "       X     Y   method alternative     n         r          CI95%     p-unc  \\\n",
      "0  music  face  pearson   two-sided  1128  0.008373  [-0.05, 0.07]  0.778781   \n",
      "1  music  odor  pearson   two-sided  1128  0.038763   [-0.02, 0.1]  0.193286   \n",
      "2   face  odor  pearson   two-sided  1128  0.046070   [-0.01, 0.1]  0.122006   \n",
      "\n",
      "    BF10     power  \n",
      "0  0.039  0.059076  \n",
      "1  0.087  0.255593  \n",
      "2  0.123  0.340008  \n"
     ]
    },
    {
     "data": {
      "image/png": "[encoded data removed]",
      "text/plain": [
       "<Figure size 500x400 with 1 Axes>"
      ]
     },
     "metadata": {},
     "output_type": "display_data"
    }
   ],
   "source": [
    "import statsmodels.api as sm\n",
    "from statsmodels.formula.api import ols\n",
    "import pingouin as pg \n",
    "\n",
    "df_r_var = pd.read_csv(path_data+'Python/btw_subj_consistency_allstims.csv')\n",
    "\n",
    "# Plot results \n",
    "fig, axes = plt.subplots(nrows=1, ncols=1, figsize=(5,4))\n",
    "df_r_var.boxplot(column=stims, ax=axes)\n",
    "\n",
    "# Compute 1-way repeated measures ANOVA\n",
    "df_r_stats = df_r_var.melt()\n",
    "df_r_stats.columns = ['stims','btw_su_corr']\n",
    "df_r_stats['su_pairs'] = np.concatenate([np.arange(0,df_r_var.shape[0],1)]*3)\n",
    "anova = pg.rm_anova(data=df_r_stats, dv='btw_su_corr', within='stims',\n",
    "                    subject='su_pairs')\n",
    "pg.print_table(anova, floatfmt='.3f')\n",
    "\n",
    "# Bonf-corrected post hocs with Hedges'g effect size\n",
    "posthoc = pg.pairwise_tests(data=df_r_stats, dv='btw_su_corr', within='stims',\n",
    "                            subject='su_pairs', padjust='bonf')\n",
    "pg.print_table(posthoc, floatfmt='.3f')\n",
    "\n",
    "# Pairwise correlations between sensory modality\n",
    "pair_r = pg.pairwise_corr(df_r_var, method='pearson')\n",
    "print(pair_r)"
   ]
  },
  {
   "cell_type": "markdown",
   "id": "b3fa561f",
   "metadata": {},
   "source": [
    "### Compare perceptual spaces' size and dispersion"
   ]
  },
  {
   "cell_type": "code",
   "execution_count": 70,
   "id": "da846933",
   "metadata": {},
   "outputs": [
    {
     "name": "stdout",
     "output_type": "stream",
     "text": [
      "[['S18-SBC', 'music'], array([74.7804798 , 11.88464403, 11.02924368,  1.87369082])]\n"
     ]
    },
    {
     "ename": "ZeroDivisionError",
     "evalue": "division by zero",
     "output_type": "error",
     "traceback": [
      "\u001b[0;31m---------------------------------------------------------------------------\u001b[0m",
      "\u001b[0;31mZeroDivisionError\u001b[0m                         Traceback (most recent call last)",
      "Input \u001b[0;32mIn [70]\u001b[0m, in \u001b[0;36m<cell line: 7>\u001b[0;34m()\u001b[0m\n\u001b[1;32m     14\u001b[0m data \u001b[38;5;241m=\u001b[39m [d \u001b[38;5;28;01mfor\u001b[39;00m d \u001b[38;5;129;01min\u001b[39;00m l]\n\u001b[1;32m     15\u001b[0m \u001b[38;5;28mprint\u001b[39m(data)\n\u001b[0;32m---> 16\u001b[0m \u001b[38;5;241;43m0\u001b[39;49m\u001b[38;5;241;43m/\u001b[39;49m\u001b[38;5;241;43m0\u001b[39;49m\n\u001b[1;32m     18\u001b[0m dist \u001b[38;5;241m=\u001b[39m compute_all_dist(df, pairs, name_col\u001b[38;5;241m=\u001b[39m\u001b[38;5;124m'\u001b[39m\u001b[38;5;124mstimulus_name\u001b[39m\u001b[38;5;124m'\u001b[39m,\n\u001b[1;32m     19\u001b[0m                    x_col\u001b[38;5;241m=\u001b[39m\u001b[38;5;124m'\u001b[39m\u001b[38;5;124mcoord.Dim.1\u001b[39m\u001b[38;5;124m'\u001b[39m, y_col\u001b[38;5;241m=\u001b[39m\u001b[38;5;124m'\u001b[39m\u001b[38;5;124mcoord.Dim.2\u001b[39m\u001b[38;5;124m'\u001b[39m)\n\u001b[1;32m     20\u001b[0m all_dist[:,i] \u001b[38;5;241m+\u001b[39m\u001b[38;5;241m=\u001b[39m dist\n",
      "\u001b[0;31mZeroDivisionError\u001b[0m: division by zero"
     ]
    }
   ],
   "source": [
    "stims = ['music','face','odor']\n",
    "\n",
    "files_pca = [f for f in os.listdir(path_data + 'df_pca/') if f.endswith('_PCA_sum.csv')]\n",
    "    \n",
    "all_pca = np.zeros((len(files_pca),5))\n",
    "l = []\n",
    "for i,f in enumerate(files_pca):\n",
    "    splits = [sp.split('_') for sp in f.split('=')]\n",
    "    su, stim = splits[1][0], splits[2][0]\n",
    "    \n",
    "    df = pd.read_csv(path_data+'df_pca/'+f, index_col=0)\n",
    "    df.columns = ['cos2','%var','%var_cum','pol_surf','circ_surf','x0','y0','avg_d']\n",
    "    l.append(df[['%var_cum','pol_surf','circ_surf','avg_d']].loc[['comp 2']].values[0])\n",
    "    data = [d.append for d in l]\n",
    "    print(data)\n",
    "    0/0\n",
    "    \n",
    "    dist = compute_all_dist(df, pairs, name_col='stimulus_name',\n",
    "                       x_col='coord.Dim.1', y_col='coord.Dim.2')\n",
    "    all_dist[:,i] += dist\n",
    "    all_sub.append(df.subject.values[0])\n",
    "\n",
    "    data_df = np.concatenate((np.array(pairs),all_dist),axis=1)\n",
    "    df_all = pd.DataFrame(data=data_df, columns=['p0','p1']+all_sub)\n",
    "    df_all.to_csv(path_data+'Python/all_dist_stim='+stim+'.csv')"
   ]
  },
  {
   "cell_type": "code",
   "execution_count": null,
   "id": "54839a29",
   "metadata": {},
   "outputs": [],
   "source": []
  }
 ],
 "metadata": {
  "kernelspec": {
   "display_name": "behav",
   "language": "python",
   "name": "behav"
  },
  "language_info": {
   "codemirror_mode": {
    "name": "ipython",
    "version": 3
   },
   "file_extension": ".py",
   "mimetype": "text/x-python",
   "name": "python",
   "nbconvert_exporter": "python",
   "pygments_lexer": "ipython3",
   "version": "3.10.6"
  }
 },
 "nbformat": 4,
 "nbformat_minor": 5
}
