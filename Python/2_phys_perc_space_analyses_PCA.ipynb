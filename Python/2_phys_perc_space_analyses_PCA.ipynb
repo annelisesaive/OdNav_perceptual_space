{
 "cells": [
  {
   "cell_type": "code",
   "execution_count": 48,
   "id": "4d4fd2b3",
   "metadata": {},
   "outputs": [],
   "source": [
    "import pandas as pd\n",
    "import numpy as np\n",
    "import os\n",
    "from utils_dist_corr import *"
   ]
  },
  {
   "cell_type": "markdown",
   "id": "8ef411a2",
   "metadata": {},
   "source": [
    "### Get data from encoding (pos, box, stim)"
   ]
  },
  {
   "cell_type": "code",
   "execution_count": 92,
   "id": "3dcdd273",
   "metadata": {},
   "outputs": [
    {
     "name": "stdout",
     "output_type": "stream",
     "text": [
      "    box_num music     x     y\n",
      "0         2   M04 -2.71  1.50\n",
      "1         1   M08 -5.84  1.10\n",
      "2         0   M09 -4.33 -1.35\n",
      "15        8   M03  3.80 -0.60\n",
      "16        7   M02  5.73 -1.62\n"
     ]
    },
    {
     "ename": "ZeroDivisionError",
     "evalue": "division by zero",
     "output_type": "error",
     "traceback": [
      "\u001b[0;31m---------------------------------------------------------------------------\u001b[0m",
      "\u001b[0;31mZeroDivisionError\u001b[0m                         Traceback (most recent call last)",
      "Input \u001b[0;32mIn [92]\u001b[0m, in \u001b[0;36m<cell line: 21>\u001b[0;34m()\u001b[0m\n\u001b[1;32m     26\u001b[0m df_su \u001b[38;5;241m=\u001b[39m df_su\u001b[38;5;241m.\u001b[39mdrop_duplicates()\n\u001b[1;32m     29\u001b[0m \u001b[38;5;28mprint\u001b[39m(df_su\u001b[38;5;241m.\u001b[39mhead())\n\u001b[0;32m---> 30\u001b[0m \u001b[38;5;241;43m0\u001b[39;49m\u001b[38;5;241;43m/\u001b[39;49m\u001b[38;5;241;43m0\u001b[39;49m\n",
      "\u001b[0;31mZeroDivisionError\u001b[0m: division by zero"
     ]
    }
   ],
   "source": [
    "path_script = '/Users/alouette/Documents/Perceptual_Space_ALS/Python/'\n",
    "path_pca = '/Users/alouette/Documents/Perceptual_Space_ALS/df_pca/'\n",
    "pca_name = path_data+'evals_su={}_stim=ALL_ALL_PCA.csv'\n",
    "stims = ['music','odor','face']\n",
    "\n",
    "#get encoding config by subj + box coordinates\n",
    "df_enc = pd.read_csv(path_script+'all_encodage.csv')\n",
    "df_xy = pd.read_csv(path_script+'df_boxes.csv',index_col=0)\n",
    "pairs = define_pairs(df_xy['box'])\n",
    "dist = compute_all_dist(df_xy, pairs, name_col='box',\n",
    "                           x_col='x', y_col='y')\n",
    "phys_ = np.concatenate((np.array(pairs,dtype=str),dist[:,np.newaxis]),axis=1)\n",
    "df_phys = pd.DataFrame(data=phys_, columns=['box1','box2','dist_phys'])\n",
    "df_phys.to_csv(path_script+'df_phys_space_boxes.csv',index=False)\n",
    "\n",
    "#select only non-outliers subjects\n",
    "subjs_sel = pd.read_csv(path_script+'all_evals_clean_n=48.csv')['subject']\n",
    "subjects = np.unique(subjs_sel)\n",
    "\n",
    "#create a df with physical and perceptual distances\n",
    "for su in subjects:\n",
    "    df_su = df_enc[df['subject']==su][['box_num',stim]]\n",
    "#    df_su['odor'] = [str(int(r)) for r in df_su['odor']]\n",
    "    df_su['x'] = [x[0] for x in df_su['box_num'].map(dict_x)]\n",
    "    df_su['y'] = [y[0] for y in df_su['box_num'].map(dict_y)]\n",
    "    df_su = df_su.drop_duplicates()\n",
    "    \n",
    "    \n",
    "    print(df_su.head())\n",
    "    0/0\n"
   ]
  },
  {
   "cell_type": "code",
   "execution_count": null,
   "id": "54a9d64c",
   "metadata": {},
   "outputs": [],
   "source": [
    "dict_x = df_xy[['box','x']].set_index('box').T.to_dict('list')\n",
    "dict_y = df_xy[['box','y']].set_index('box').T.to_dict('list')"
   ]
  },
  {
   "cell_type": "code",
   "execution_count": null,
   "id": "bd8e2894",
   "metadata": {},
   "outputs": [],
   "source": []
  },
  {
   "cell_type": "code",
   "execution_count": null,
   "id": "b864c772",
   "metadata": {},
   "outputs": [],
   "source": [
    "stims = ['music','face','odor']\n",
    "nb_stim = 18\n",
    "\n",
    "for stim in stims:\n",
    "    files_pca = [f for f in os.listdir(path_data + 'df_pca/') if f.endswith(stim+'_PCA.csv')]\n",
    "\n",
    "    all_dist = np.zeros((nb_pairs(nb_stim),len(files_pca)))\n",
    "    all_sub = []\n",
    "    for i, f in enumerate(files_pca):\n",
    "        df = pd.read_csv(path_data+'df_pca/'+ f, index_col=0)\n",
    "        pairs = define_pairs(df.stimulus_name)\n",
    "        dist = compute_all_dist(df, pairs, name_col='stimulus_name',\n",
    "                           x_col='coord.Dim.1', y_col='coord.Dim.2')\n",
    "        all_dist[:,i] += dist\n",
    "        all_sub.append(df.subject.values[0])\n",
    "\n",
    "    data_df = np.concatenate((np.array(pairs),all_dist),axis=1)\n",
    "    df_all = pd.DataFrame(data=data_df, columns=['p0','p1']+all_sub)\n",
    "    df_all.to_csv(path_data+'Python/all_dist_stim='+stim+'.csv')"
   ]
  },
  {
   "cell_type": "markdown",
   "id": "4e20d342",
   "metadata": {},
   "source": [
    "## Compare perceptual space\n",
    "Compare the consistency (R) btw space across subject for each sensory modality"
   ]
  },
  {
   "cell_type": "markdown",
   "id": "dfb12be2",
   "metadata": {},
   "source": [
    "### Compute perceptual spaces' consistency across subjects"
   ]
  },
  {
   "cell_type": "code",
   "execution_count": null,
   "id": "0aca31db",
   "metadata": {},
   "outputs": [],
   "source": [
    "path_df = path_data+'Python/all_dist_stim={}.csv'\n",
    "stims = ['music','face','odor']\n",
    "\n",
    "space_r = []\n",
    "for stim in stims:\n",
    "    df = pd.read_csv(path_df.format(stim), index_col=0)\n",
    "    subj = [c for c in df.columns if c not in ['p0','p1']]\n",
    "    pairs_su = define_pairs(subj)\n",
    "    corr = compute_all_R(df, pairs_su, meth='spearman')\n",
    "    space_r.append(corr) \n",
    "space_r = np.transpose(np.vstack(space_r))\n",
    "\n",
    "df_r_var = pd.DataFrame(space_r, columns=stims)\n",
    "print(df_r_var.describe())\n",
    "df_r_var.to_csv(path_data+'Python/btw_subj_consistency_allstims.csv',index=False)"
   ]
  },
  {
   "cell_type": "markdown",
   "id": "0b92f9f4",
   "metadata": {},
   "source": [
    "### Compare consistencies across modality (+ paired links)"
   ]
  },
  {
   "cell_type": "code",
   "execution_count": null,
   "id": "582cd7f8",
   "metadata": {},
   "outputs": [],
   "source": [
    "import statsmodels.api as sm\n",
    "from statsmodels.formula.api import ols\n",
    "import pingouin as pg \n",
    "\n",
    "df_r_var = pd.read_csv(path_data+'Python/btw_subj_consistency_allstims.csv')\n",
    "\n",
    "# Plot results \n",
    "fig, axes = plt.subplots(nrows=1, ncols=1, figsize=(5,4))\n",
    "df_r_var.boxplot(column=stims, ax=axes)\n",
    "\n",
    "# Compute 1-way repeated measures ANOVA\n",
    "df_r_stats = df_r_var.melt()\n",
    "df_r_stats.columns = ['stims','btw_su_corr']\n",
    "df_r_stats['su_pairs'] = np.concatenate([np.arange(0,df_r_var.shape[0],1)]*3)\n",
    "anova = pg.rm_anova(data=df_r_stats, dv='btw_su_corr', within='stims',\n",
    "                    subject='su_pairs')\n",
    "pg.print_table(anova, floatfmt='.3f')\n",
    "\n",
    "# Bonf-corrected post hocs with Hedges'g effect size\n",
    "posthoc = pg.pairwise_tests(data=df_r_stats, dv='btw_su_corr', within='stims',\n",
    "                            subject='su_pairs', padjust='bonf')\n",
    "pg.print_table(posthoc, floatfmt='.3f')\n",
    "\n",
    "# Pairwise correlations between sensory modality\n",
    "pair_r = pg.pairwise_corr(df_r_var, method='pearson')\n",
    "print(pair_r)"
   ]
  },
  {
   "cell_type": "markdown",
   "id": "0dcc28e4",
   "metadata": {},
   "source": [
    "### Compare perceptual spaces' size and dispersion"
   ]
  },
  {
   "cell_type": "code",
   "execution_count": null,
   "id": "c867522f",
   "metadata": {},
   "outputs": [],
   "source": [
    "stims = ['music','face','odor']\n",
    "cols_to_sel = ['%var_cum','pol_surf','circ_surf','avg_d']\n",
    "\n",
    "files_pca = [f for f in os.listdir(path_data + 'df_pca/') if f.endswith('_PCA_sum.csv')]\n",
    "    \n",
    "all_pca = np.zeros((len(files_pca),4))\n",
    "infos = np.array([])\n",
    "for i,f in enumerate(files_pca):\n",
    "    splits = [sp.split('_') for sp in f.split('=')]\n",
    "    s_splits = np.array((splits[1][0],splits[2][0]))\n",
    "    infos = np.vstack((infos,s_splits)) if np.size(infos) else np.array(s_splits)\n",
    "    \n",
    "    df = pd.read_csv(path_data+'df_pca/'+f, index_col=0)\n",
    "    df.columns = ['cos2','%var','%var_cum','pol_surf','circ_surf','x0','y0','avg_d']\n",
    "    sel = df[cols_to_sel].loc[['comp 2']].values[0]\n",
    "    all_pca[i,:] += sel\n",
    "\n",
    "data_df = np.concatenate((infos,all_pca), axis=1)\n",
    "df_all = pd.DataFrame(data=data_df, columns=['subject','stim']+cols_to_sel)\n",
    "df_all.to_csv(path_data+'Python/all_spaces_geometry.csv',index=False)"
   ]
  },
  {
   "cell_type": "markdown",
   "id": "1d87f741",
   "metadata": {},
   "source": [
    "### Statistics and plots - spaces geometry "
   ]
  },
  {
   "cell_type": "code",
   "execution_count": null,
   "id": "20bb2646",
   "metadata": {},
   "outputs": [],
   "source": [
    "import pingouin as pg \n",
    "\n",
    "df_geo = pd.read_csv(path_data+'Python/all_spaces_geometry.csv')\n",
    "\n",
    "# Plot results \n",
    "fig, axes = plt.subplots(nrows=1, ncols=4, figsize=(20,4))\n",
    "for i,c in enumerate(df_geo.columns[2:]):\n",
    "    print('>> effect of modality on ',c)\n",
    "    df_geo[[c,'stim']].boxplot(ax=axes[i], by='stim')\n",
    "    anova = pg.rm_anova(data=df_geo, dv=c, within='stim',\n",
    "                    subject='subject')\n",
    "    pg.print_table(anova, floatfmt='.3f')\n",
    "    \n",
    "    if anova.iloc[0,4] < 0.05:\n",
    "        # Bonf-corrected post hocs with Hedges'g effect size\n",
    "        posthoc = pg.pairwise_tests(data=df_geo, dv=c, within='stim',\n",
    "                            subject='subject', padjust='bonf')\n",
    "        pg.print_table(posthoc, floatfmt='.3f')\n",
    "    "
   ]
  },
  {
   "cell_type": "code",
   "execution_count": null,
   "id": "552bc5e2",
   "metadata": {},
   "outputs": [],
   "source": []
  }
 ],
 "metadata": {
  "kernelspec": {
   "display_name": "behav",
   "language": "python",
   "name": "behav"
  },
  "language_info": {
   "codemirror_mode": {
    "name": "ipython",
    "version": 3
   },
   "file_extension": ".py",
   "mimetype": "text/x-python",
   "name": "python",
   "nbconvert_exporter": "python",
   "pygments_lexer": "ipython3",
   "version": "3.10.6"
  }
 },
 "nbformat": 4,
 "nbformat_minor": 5
}
