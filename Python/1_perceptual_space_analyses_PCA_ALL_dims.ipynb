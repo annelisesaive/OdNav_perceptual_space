{
 "cells": [
  {
   "cell_type": "code",
   "execution_count": 2,
   "id": "4d4fd2b3",
   "metadata": {},
   "outputs": [],
   "source": [
    "import pandas as pd\n",
    "import numpy as np\n",
    "import os\n",
    "from utils_dist_corr import *"
   ]
  },
  {
   "cell_type": "code",
   "execution_count": 3,
   "id": "3dcdd273",
   "metadata": {},
   "outputs": [],
   "source": [
    "path_data = '/Users/alouette/Documents/Perceptual_Space_ALS/'"
   ]
  },
  {
   "cell_type": "markdown",
   "id": "486e5710",
   "metadata": {},
   "source": [
    "## Characterize geometry of perceptual space\n",
    "Euclidian distance based on 2 first dimension of PCA space \n",
    "\n",
    "Take coordinates computed using v = all mod (all 3 modalities at the same time in the same PCA)"
   ]
  },
  {
   "cell_type": "code",
   "execution_count": 12,
   "id": "b864c772",
   "metadata": {},
   "outputs": [],
   "source": [
    "stims = ['music','face','odor']\n",
    "nb_stim = 18\n",
    "\n",
    "for stim in stims:\n",
    "    files_pca = [f for f in os.listdir(path_data + 'df_pca/') if f.endswith('ALL_PCA.csv')]\n",
    "\n",
    "    all_dist = np.zeros((nb_pairs(nb_stim),len(files_pca)))\n",
    "    all_sub = []\n",
    "    for i, f in enumerate(files_pca):\n",
    "        df = pd.read_csv(path_data+'df_pca/'+ f, index_col=0)\n",
    "        df_sel = df.loc[df.stimulus_type == stim]\n",
    "        pairs = define_pairs(df_sel.stimulus_name)\n",
    "        dist = compute_all_dist(df_sel, pairs, name_col='stimulus_name',\n",
    "                           x_col='coord.Dim.1', y_col='coord.Dim.2')\n",
    "        all_dist[:,i] += dist\n",
    "        all_sub.append(df.subject.values[0])\n",
    "\n",
    "    data_df = np.concatenate((np.array(pairs),all_dist),axis=1)\n",
    "    df_all = pd.DataFrame(data=data_df, columns=['p0','p1']+all_sub)\n",
    "    df_all.to_csv(path_data+'Python/all_dist_stim='+stim+'_v=allmod.csv')"
   ]
  },
  {
   "cell_type": "markdown",
   "id": "a9a3ec37",
   "metadata": {},
   "source": [
    "#### Compute distances BETWEEN modality spaces (ex: all distances between odors and the rest of stimuli)"
   ]
  },
  {
   "cell_type": "code",
   "execution_count": 46,
   "id": "2b2c3c3e",
   "metadata": {
    "collapsed": true
   },
   "outputs": [
    {
     "name": "stdout",
     "output_type": "stream",
     "text": [
      "evals_su=S09-CBS_stim=ALL_ALL_PCA.csv\n",
      "evals_su=S11-SBC_stim=ALL_ALL_PCA.csv\n",
      "evals_su=S28-CSB_stim=ALL_ALL_PCA.csv\n",
      "evals_su=S15-SBC_stim=ALL_ALL_PCA.csv\n",
      "evals_su=S20-SCB_stim=ALL_ALL_PCA.csv\n",
      "evals_su=S01-BSC_stim=ALL_ALL_PCA.csv\n",
      "evals_su=S19-BCS_stim=ALL_ALL_PCA.csv\n",
      "evals_su=S17-CSB_stim=ALL_ALL_PCA.csv\n",
      "evals_su=S13-SCB_stim=ALL_ALL_PCA.csv\n",
      "evals_su=S24-SCB_stim=ALL_ALL_PCA.csv\n",
      "evals_su=S18b-SBC_stim=ALL_ALL_PCA.csv\n",
      "evals_su=S07-BCS_stim=ALL_ALL_PCA.csv\n",
      "evals_su=S20b-SCB_stim=ALL_ALL_PCA.csv\n",
      "evals_su=S08-CSB_stim=ALL_ALL_PCA.csv\n",
      "evals_su=S16-BSC_stim=ALL_ALL_PCA.csv\n",
      "evals_su=S21-CBS_stim=ALL_ALL_PCA.csv\n",
      "evals_su=S04-SCB_stim=ALL_ALL_PCA.csv\n",
      "evals_su=S12-CBS_stim=ALL_ALL_PCA.csv\n",
      "evals_su=S23-SBC_stim=ALL_ALL_PCA.csv\n",
      "evals_su=S10-BCS_stim=ALL_ALL_PCA.csv\n",
      "evals_su=S08-BSC_stim=ALL_ALL_PCA.csv\n",
      "evals_su=S33-CBS_stim=ALL_ALL_PCA.csv\n",
      "evals_su=S12-SCB_stim=ALL_ALL_PCA.csv\n",
      "evals_su=S18-SBC_stim=ALL_ALL_PCA.csv\n",
      "evals_su=S16-CSB_stim=ALL_ALL_PCA.csv\n",
      "evals_su=S27-CBS_stim=ALL_ALL_PCA.csv\n",
      "evals_su=S06-CSB_stim=ALL_ALL_PCA.csv\n",
      "evals_su=S31-CSB_stim=ALL_ALL_PCA.csv\n",
      "evals_su=S14-CBS_stim=ALL_ALL_PCA.csv\n",
      "evals_su=S02-CSB_stim=ALL_ALL_PCA.csv\n",
      "evals_su=S21b-CBS_stim=ALL_ALL_PCA.csv\n",
      "evals_su=S23-SCB_stim=ALL_ALL_PCA.csv\n",
      "evals_su=S29-SBC_stim=ALL_ALL_PCA.csv\n",
      "evals_su=S10-CSB_stim=ALL_ALL_PCA.csv\n",
      "evals_su=S25-BCS_stim=ALL_ALL_PCA.csv\n",
      "evals_su=S07-BSC_stim=ALL_ALL_PCA.csv\n",
      "evals_su=S22-CSB_stim=ALL_ALL_PCA.csv\n",
      "evals_su=S03-CBS_stim=ALL_ALL_PCA.csv\n",
      "evals_su=S03-BSC_stim=ALL_ALL_PCA.csv\n",
      "evals_su=S17-BCS_stim=ALL_ALL_PCA.csv\n",
      "evals_su=S11b-SBC_stim=ALL_ALL_PCA.csv\n",
      "evals_su=S13-BCS_stim=ALL_ALL_PCA.csv\n",
      "evals_su=S15-CBS_stim=ALL_ALL_PCA.csv\n",
      "evals_su=S30-SCB_stim=ALL_ALL_PCA.csv\n",
      "evals_su=S26-BSC_stim=ALL_ALL_PCA.csv\n",
      "evals_su=S05-BCS_stim=ALL_ALL_PCA.csv\n",
      "evals_su=S19-CBS_stim=ALL_ALL_PCA.csv\n",
      "evals_su=S01-BCS_stim=ALL_ALL_PCA.csv\n"
     ]
    }
   ],
   "source": [
    "files_pca = [f for f in os.listdir(path_data + 'df_pca/') if f.endswith('ALL_PCA.csv')]\n",
    "\n",
    "all_dist = np.zeros((972, len(files_pca)))\n",
    "all_sub = []\n",
    "for i, f in enumerate(files_pca):\n",
    "    df = pd.read_csv(path_data+'df_pca/'+ f, index_col=0)\n",
    "    df['stim_name2'] = ['O'+name if name[0] not in ('M','V') else name for name in df.stimulus_name]\n",
    "    pairs = define_pairs_diff(df.stim_name2)\n",
    "    dist = compute_all_dist(df, pairs, name_col='stim_name2',\n",
    "                       x_col='coord.Dim.1', y_col='coord.Dim.2')\n",
    "    all_dist[:,i] += dist\n",
    "    all_sub.append(df.subject.values[0])\n",
    "\n",
    "data_df = np.concatenate((np.array(pairs),all_dist),axis=1)\n",
    "df_all = pd.DataFrame(data=data_df, columns=['p0','p1']+all_sub)\n",
    "df_all.to_csv(path_data+'Python/all_dist_BTW_stim_v=allmod.csv')"
   ]
  },
  {
   "cell_type": "markdown",
   "id": "4e20d342",
   "metadata": {},
   "source": [
    "## Compare perceptual space\n",
    "Compare the consistency (R) btw space across subject for each sensory modality"
   ]
  },
  {
   "cell_type": "markdown",
   "id": "dfb12be2",
   "metadata": {},
   "source": [
    "### Compute perceptual spaces' consistency across subjects - WITHIN MODALITY"
   ]
  },
  {
   "cell_type": "code",
   "execution_count": 49,
   "id": "0aca31db",
   "metadata": {},
   "outputs": [
    {
     "name": "stdout",
     "output_type": "stream",
     "text": [
      "         music      face      odor\n",
      "0    -0.053809  0.042002  0.017827\n",
      "1    -0.060263  0.004484 -0.095241\n",
      "2    -0.040808  0.102922  0.084570\n",
      "3    -0.064033  0.150604  0.043382\n",
      "4    -0.000798  0.013993  0.156688\n",
      "...        ...       ...       ...\n",
      "1123  0.016337 -0.050063 -0.041102\n",
      "1124 -0.052585  0.011029 -0.075830\n",
      "1125  0.038821 -0.112521  0.034416\n",
      "1126 -0.009889  0.314896  0.183276\n",
      "1127  0.125655 -0.162611  0.078304\n",
      "\n",
      "[1128 rows x 3 columns]\n"
     ]
    },
    {
     "ename": "ZeroDivisionError",
     "evalue": "division by zero",
     "output_type": "error",
     "traceback": [
      "\u001b[0;31m---------------------------------------------------------------------------\u001b[0m",
      "\u001b[0;31mZeroDivisionError\u001b[0m                         Traceback (most recent call last)",
      "Input \u001b[0;32mIn [49]\u001b[0m, in \u001b[0;36m<cell line: 15>\u001b[0;34m()\u001b[0m\n\u001b[1;32m     13\u001b[0m df_r_var \u001b[38;5;241m=\u001b[39m pd\u001b[38;5;241m.\u001b[39mDataFrame(space_r, columns\u001b[38;5;241m=\u001b[39mstims)\n\u001b[1;32m     14\u001b[0m \u001b[38;5;28mprint\u001b[39m(df_r_var)\n\u001b[0;32m---> 15\u001b[0m \u001b[38;5;241;43m0\u001b[39;49m\u001b[38;5;241;43m/\u001b[39;49m\u001b[38;5;241;43m0\u001b[39;49m\n\u001b[1;32m     16\u001b[0m \u001b[38;5;28mprint\u001b[39m(df_r_var\u001b[38;5;241m.\u001b[39mdescribe())\n\u001b[1;32m     17\u001b[0m df_r_var\u001b[38;5;241m.\u001b[39mto_csv(path_data\u001b[38;5;241m+\u001b[39m\u001b[38;5;124m'\u001b[39m\u001b[38;5;124mPython/btw_subj_consistency_allstims_v=allmod.csv\u001b[39m\u001b[38;5;124m'\u001b[39m,index\u001b[38;5;241m=\u001b[39m\u001b[38;5;28;01mFalse\u001b[39;00m)\n",
      "\u001b[0;31mZeroDivisionError\u001b[0m: division by zero"
     ]
    }
   ],
   "source": [
    "path_df = path_data+'Python/all_dist_stim={}_v=allmod.csv'\n",
    "stims = ['music','face','odor']\n",
    "\n",
    "space_r = []\n",
    "for stim in stims:\n",
    "    df = pd.read_csv(path_df.format(stim), index_col=0)\n",
    "    subj = [c for c in df.columns if c not in ['p0','p1']]\n",
    "    pairs_su = define_pairs(subj)\n",
    "    corr = compute_all_R(df, pairs_su, meth='spearman')\n",
    "    space_r.append(corr) \n",
    "space_r = np.transpose(np.vstack(space_r))\n",
    "\n",
    "df_r_var = pd.DataFrame(space_r, columns=stims)\n",
    "print(df_r_var.describe())\n",
    "df_r_var.to_csv(path_data+'Python/btw_subj_consistency_allstims_v=allmod.csv',index=False)"
   ]
  },
  {
   "cell_type": "markdown",
   "id": "7f2221c2",
   "metadata": {},
   "source": [
    "#### Compute perceptual spaces' consistency across subjects - BETWEEN MODALITY"
   ]
  },
  {
   "cell_type": "code",
   "execution_count": 69,
   "id": "e6753437",
   "metadata": {},
   "outputs": [
    {
     "name": "stdout",
     "output_type": "stream",
     "text": [
      "             music         face         odor\n",
      "count  1128.000000  1128.000000  1128.000000\n",
      "mean      0.044397     0.016004     0.032402\n",
      "std       0.090931     0.093876     0.094836\n",
      "min      -0.237452    -0.429801    -0.317152\n",
      "25%      -0.015909    -0.046089    -0.030986\n",
      "50%       0.037914     0.015806     0.028640\n",
      "75%       0.102192     0.074298     0.089030\n",
      "max       0.418970     0.473881     0.477549\n"
     ]
    }
   ],
   "source": [
    "path_df = path_data+'Python/all_dist_BTW_stim_v=allmod.csv'\n",
    "stims_to_key = {'music':'M',\n",
    "                'face': 'V',\n",
    "                'odor':'O'}\n",
    "\n",
    "df = pd.read_csv(path_df.format(stim), index_col=0)\n",
    "subj = [c for c in df.columns if c not in ['p0','p1']]\n",
    "pairs_su = define_pairs(subj)\n",
    "\n",
    "space_r = []\n",
    "for stim in stims_to_key:\n",
    "    key = stims_to_key[stim]\n",
    "    df_sel = df.loc[df['p0'].str.contains(key) | df['p1'].str.contains(key)]\n",
    "    \n",
    "    corr = compute_all_R(df_sel, pairs_su, meth='spearman')\n",
    "    space_r.append(corr) \n",
    "space_r = np.transpose(np.vstack(space_r))\n",
    "df_r_var = pd.DataFrame(space_r, columns=stims)\n",
    "print(df_r_var.describe())\n",
    "df_r_var.to_csv(path_data+'Python/btw_subj_consistency_BTW_stim_v=allmod.csv',index=False)"
   ]
  },
  {
   "cell_type": "markdown",
   "id": "0b92f9f4",
   "metadata": {},
   "source": [
    "### Compare consistencies across modality (+ paired links)"
   ]
  },
  {
   "cell_type": "code",
   "execution_count": 117,
   "id": "582cd7f8",
   "metadata": {
    "scrolled": true
   },
   "outputs": [
    {
     "name": "stdout",
     "output_type": "stream",
     "text": [
      "      music      face      odor\n",
      "0  0.011386  0.051637  0.076367\n",
      "1 -0.034762 -0.059339 -0.031133\n",
      "2  0.129040  0.182768  0.188094\n",
      "3 -0.002251 -0.034732 -0.018874\n",
      "4  0.042358  0.036182 -0.025365\n",
      "     variable     value\n",
      "0       music  0.011386\n",
      "1       music -0.034762\n",
      "2       music  0.129040\n",
      "3       music -0.002251\n",
      "4       music  0.042358\n",
      "...       ...       ...\n",
      "3379     odor  0.029520\n",
      "3380     odor  0.035225\n",
      "3381     odor  0.022413\n",
      "3382     odor  0.121348\n",
      "3383     odor -0.023563\n",
      "\n",
      "[3384 rows x 2 columns]\n"
     ]
    },
    {
     "ename": "ZeroDivisionError",
     "evalue": "division by zero",
     "output_type": "error",
     "traceback": [
      "\u001b[0;31m---------------------------------------------------------------------------\u001b[0m",
      "\u001b[0;31mZeroDivisionError\u001b[0m                         Traceback (most recent call last)",
      "Input \u001b[0;32mIn [117]\u001b[0m, in \u001b[0;36m<cell line: 9>\u001b[0;34m()\u001b[0m\n\u001b[1;32m      7\u001b[0m \u001b[38;5;28mprint\u001b[39m(df_r_var\u001b[38;5;241m.\u001b[39mhead())\n\u001b[1;32m      8\u001b[0m \u001b[38;5;28mprint\u001b[39m(df_r_var\u001b[38;5;241m.\u001b[39mmelt())\n\u001b[0;32m----> 9\u001b[0m \u001b[38;5;241;43m0\u001b[39;49m\u001b[38;5;241;43m/\u001b[39;49m\u001b[38;5;241;43m0\u001b[39;49m\n\u001b[1;32m     11\u001b[0m \u001b[38;5;66;03m# Plot results \u001b[39;00m\n\u001b[1;32m     12\u001b[0m fig, axes \u001b[38;5;241m=\u001b[39m plt\u001b[38;5;241m.\u001b[39msubplots(nrows\u001b[38;5;241m=\u001b[39m\u001b[38;5;241m1\u001b[39m, ncols\u001b[38;5;241m=\u001b[39m\u001b[38;5;241m1\u001b[39m, figsize\u001b[38;5;241m=\u001b[39m(\u001b[38;5;241m5\u001b[39m,\u001b[38;5;241m4\u001b[39m))\n",
      "\u001b[0;31mZeroDivisionError\u001b[0m: division by zero"
     ]
    }
   ],
   "source": [
    "import matplotlib.pyplot as plt\n",
    "import statsmodels.api as sm\n",
    "from statsmodels.formula.api import ols\n",
    "import pingouin as pg \n",
    "\n",
    "df_r_var = pd.read_csv(path_data+'Python/btw_subj_consistency_BTW_stim_v=allmod.csv')\n",
    "\n",
    "# Plot results \n",
    "fig, axes = plt.subplots(nrows=1, ncols=1, figsize=(5,4))\n",
    "df_r_var.boxplot(column=stims, ax=axes)\n",
    "\n",
    "# Compute 1-way repeated measures ANOVA\n",
    "df_r_stats = df_r_var.melt()\n",
    "df_r_stats.columns = ['stims','btw_su_corr']\n",
    "df_r_stats['su_pairs'] = np.concatenate([np.arange(0,df_r_var.shape[0],1)]*3)\n",
    "anova = pg.rm_anova(data=df_r_stats, dv='btw_su_corr', within='stims',\n",
    "                    subject='su_pairs')\n",
    "pg.print_table(anova, floatfmt='.3f')\n",
    "\n",
    "# Bonf-corrected post hocs with Hedges'g effect size\n",
    "posthoc = pg.pairwise_tests(data=df_r_stats, dv='btw_su_corr', within='stims',\n",
    "                            subject='su_pairs', padjust='bonf')\n",
    "pg.print_table(posthoc, floatfmt='.3f')\n",
    "\n",
    "# Pairwise correlations between sensory modality\n",
    "pair_r = pg.pairwise_corr(df_r_var, method='pearson')\n",
    "print(pair_r)"
   ]
  },
  {
   "cell_type": "markdown",
   "id": "0dcc28e4",
   "metadata": {},
   "source": [
    "### Compare perceptual spaces' size and dispersion v=bymod"
   ]
  },
  {
   "cell_type": "code",
   "execution_count": 71,
   "id": "c867522f",
   "metadata": {
    "collapsed": true
   },
   "outputs": [
    {
     "ename": "ValueError",
     "evalue": "Length mismatch: Expected axis has 12 elements, new values have 8 elements",
     "output_type": "error",
     "traceback": [
      "\u001b[0;31m---------------------------------------------------------------------------\u001b[0m",
      "\u001b[0;31mValueError\u001b[0m                                Traceback (most recent call last)",
      "Input \u001b[0;32mIn [71]\u001b[0m, in \u001b[0;36m<cell line: 8>\u001b[0;34m()\u001b[0m\n\u001b[1;32m     11\u001b[0m infos \u001b[38;5;241m=\u001b[39m np\u001b[38;5;241m.\u001b[39mvstack((infos,s_splits)) \u001b[38;5;28;01mif\u001b[39;00m np\u001b[38;5;241m.\u001b[39msize(infos) \u001b[38;5;28;01melse\u001b[39;00m np\u001b[38;5;241m.\u001b[39marray(s_splits)\n\u001b[1;32m     13\u001b[0m df \u001b[38;5;241m=\u001b[39m pd\u001b[38;5;241m.\u001b[39mread_csv(path_data\u001b[38;5;241m+\u001b[39m\u001b[38;5;124m'\u001b[39m\u001b[38;5;124mdf_pca/\u001b[39m\u001b[38;5;124m'\u001b[39m\u001b[38;5;241m+\u001b[39mf, index_col\u001b[38;5;241m=\u001b[39m\u001b[38;5;241m0\u001b[39m)\n\u001b[0;32m---> 14\u001b[0m \u001b[43mdf\u001b[49m\u001b[38;5;241;43m.\u001b[39;49m\u001b[43mcolumns\u001b[49m \u001b[38;5;241m=\u001b[39m [\u001b[38;5;124m'\u001b[39m\u001b[38;5;124mcos2\u001b[39m\u001b[38;5;124m'\u001b[39m,\u001b[38;5;124m'\u001b[39m\u001b[38;5;124m%\u001b[39m\u001b[38;5;124mvar\u001b[39m\u001b[38;5;124m'\u001b[39m,\u001b[38;5;124m'\u001b[39m\u001b[38;5;124m%\u001b[39m\u001b[38;5;124mvar_cum\u001b[39m\u001b[38;5;124m'\u001b[39m,\u001b[38;5;124m'\u001b[39m\u001b[38;5;124mpol_surf\u001b[39m\u001b[38;5;124m'\u001b[39m,\u001b[38;5;124m'\u001b[39m\u001b[38;5;124mcirc_surf\u001b[39m\u001b[38;5;124m'\u001b[39m,\u001b[38;5;124m'\u001b[39m\u001b[38;5;124mx0\u001b[39m\u001b[38;5;124m'\u001b[39m,\u001b[38;5;124m'\u001b[39m\u001b[38;5;124my0\u001b[39m\u001b[38;5;124m'\u001b[39m,\u001b[38;5;124m'\u001b[39m\u001b[38;5;124mavg_d\u001b[39m\u001b[38;5;124m'\u001b[39m]\n\u001b[1;32m     15\u001b[0m sel \u001b[38;5;241m=\u001b[39m df[cols_to_sel]\u001b[38;5;241m.\u001b[39mloc[[\u001b[38;5;124m'\u001b[39m\u001b[38;5;124mcomp 2\u001b[39m\u001b[38;5;124m'\u001b[39m]]\u001b[38;5;241m.\u001b[39mvalues[\u001b[38;5;241m0\u001b[39m]\n\u001b[1;32m     16\u001b[0m all_pca[i,:] \u001b[38;5;241m+\u001b[39m\u001b[38;5;241m=\u001b[39m sel\n",
      "File \u001b[0;32m~/opt/anaconda3/envs/behav/lib/python3.10/site-packages/pandas/core/generic.py:5915\u001b[0m, in \u001b[0;36mNDFrame.__setattr__\u001b[0;34m(self, name, value)\u001b[0m\n\u001b[1;32m   5913\u001b[0m \u001b[38;5;28;01mtry\u001b[39;00m:\n\u001b[1;32m   5914\u001b[0m     \u001b[38;5;28mobject\u001b[39m\u001b[38;5;241m.\u001b[39m\u001b[38;5;21m__getattribute__\u001b[39m(\u001b[38;5;28mself\u001b[39m, name)\n\u001b[0;32m-> 5915\u001b[0m     \u001b[38;5;28;01mreturn\u001b[39;00m \u001b[38;5;28;43mobject\u001b[39;49m\u001b[38;5;241;43m.\u001b[39;49m\u001b[38;5;21;43m__setattr__\u001b[39;49m\u001b[43m(\u001b[49m\u001b[38;5;28;43mself\u001b[39;49m\u001b[43m,\u001b[49m\u001b[43m \u001b[49m\u001b[43mname\u001b[49m\u001b[43m,\u001b[49m\u001b[43m \u001b[49m\u001b[43mvalue\u001b[49m\u001b[43m)\u001b[49m\n\u001b[1;32m   5916\u001b[0m \u001b[38;5;28;01mexcept\u001b[39;00m \u001b[38;5;167;01mAttributeError\u001b[39;00m:\n\u001b[1;32m   5917\u001b[0m     \u001b[38;5;28;01mpass\u001b[39;00m\n",
      "File \u001b[0;32m~/opt/anaconda3/envs/behav/lib/python3.10/site-packages/pandas/_libs/properties.pyx:69\u001b[0m, in \u001b[0;36mpandas._libs.properties.AxisProperty.__set__\u001b[0;34m()\u001b[0m\n",
      "File \u001b[0;32m~/opt/anaconda3/envs/behav/lib/python3.10/site-packages/pandas/core/generic.py:823\u001b[0m, in \u001b[0;36mNDFrame._set_axis\u001b[0;34m(self, axis, labels)\u001b[0m\n\u001b[1;32m    821\u001b[0m \u001b[38;5;28;01mdef\u001b[39;00m \u001b[38;5;21m_set_axis\u001b[39m(\u001b[38;5;28mself\u001b[39m, axis: \u001b[38;5;28mint\u001b[39m, labels: AnyArrayLike \u001b[38;5;241m|\u001b[39m \u001b[38;5;28mlist\u001b[39m) \u001b[38;5;241m-\u001b[39m\u001b[38;5;241m>\u001b[39m \u001b[38;5;28;01mNone\u001b[39;00m:\n\u001b[1;32m    822\u001b[0m     labels \u001b[38;5;241m=\u001b[39m ensure_index(labels)\n\u001b[0;32m--> 823\u001b[0m     \u001b[38;5;28;43mself\u001b[39;49m\u001b[38;5;241;43m.\u001b[39;49m\u001b[43m_mgr\u001b[49m\u001b[38;5;241;43m.\u001b[39;49m\u001b[43mset_axis\u001b[49m\u001b[43m(\u001b[49m\u001b[43maxis\u001b[49m\u001b[43m,\u001b[49m\u001b[43m \u001b[49m\u001b[43mlabels\u001b[49m\u001b[43m)\u001b[49m\n\u001b[1;32m    824\u001b[0m     \u001b[38;5;28mself\u001b[39m\u001b[38;5;241m.\u001b[39m_clear_item_cache()\n",
      "File \u001b[0;32m~/opt/anaconda3/envs/behav/lib/python3.10/site-packages/pandas/core/internals/managers.py:227\u001b[0m, in \u001b[0;36mBaseBlockManager.set_axis\u001b[0;34m(self, axis, new_labels)\u001b[0m\n\u001b[1;32m    225\u001b[0m \u001b[38;5;28;01mdef\u001b[39;00m \u001b[38;5;21mset_axis\u001b[39m(\u001b[38;5;28mself\u001b[39m, axis: \u001b[38;5;28mint\u001b[39m, new_labels: Index) \u001b[38;5;241m-\u001b[39m\u001b[38;5;241m>\u001b[39m \u001b[38;5;28;01mNone\u001b[39;00m:\n\u001b[1;32m    226\u001b[0m     \u001b[38;5;66;03m# Caller is responsible for ensuring we have an Index object.\u001b[39;00m\n\u001b[0;32m--> 227\u001b[0m     \u001b[38;5;28;43mself\u001b[39;49m\u001b[38;5;241;43m.\u001b[39;49m\u001b[43m_validate_set_axis\u001b[49m\u001b[43m(\u001b[49m\u001b[43maxis\u001b[49m\u001b[43m,\u001b[49m\u001b[43m \u001b[49m\u001b[43mnew_labels\u001b[49m\u001b[43m)\u001b[49m\n\u001b[1;32m    228\u001b[0m     \u001b[38;5;28mself\u001b[39m\u001b[38;5;241m.\u001b[39maxes[axis] \u001b[38;5;241m=\u001b[39m new_labels\n",
      "File \u001b[0;32m~/opt/anaconda3/envs/behav/lib/python3.10/site-packages/pandas/core/internals/base.py:70\u001b[0m, in \u001b[0;36mDataManager._validate_set_axis\u001b[0;34m(self, axis, new_labels)\u001b[0m\n\u001b[1;32m     67\u001b[0m     \u001b[38;5;28;01mpass\u001b[39;00m\n\u001b[1;32m     69\u001b[0m \u001b[38;5;28;01melif\u001b[39;00m new_len \u001b[38;5;241m!=\u001b[39m old_len:\n\u001b[0;32m---> 70\u001b[0m     \u001b[38;5;28;01mraise\u001b[39;00m \u001b[38;5;167;01mValueError\u001b[39;00m(\n\u001b[1;32m     71\u001b[0m         \u001b[38;5;124mf\u001b[39m\u001b[38;5;124m\"\u001b[39m\u001b[38;5;124mLength mismatch: Expected axis has \u001b[39m\u001b[38;5;132;01m{\u001b[39;00mold_len\u001b[38;5;132;01m}\u001b[39;00m\u001b[38;5;124m elements, new \u001b[39m\u001b[38;5;124m\"\u001b[39m\n\u001b[1;32m     72\u001b[0m         \u001b[38;5;124mf\u001b[39m\u001b[38;5;124m\"\u001b[39m\u001b[38;5;124mvalues have \u001b[39m\u001b[38;5;132;01m{\u001b[39;00mnew_len\u001b[38;5;132;01m}\u001b[39;00m\u001b[38;5;124m elements\u001b[39m\u001b[38;5;124m\"\u001b[39m\n\u001b[1;32m     73\u001b[0m     )\n",
      "\u001b[0;31mValueError\u001b[0m: Length mismatch: Expected axis has 12 elements, new values have 8 elements"
     ]
    }
   ],
   "source": [
    "stims = ['music','face','odor']\n",
    "cols_to_sel = ['%var_cum','pol_surf','circ_surf','avg_d']\n",
    "\n",
    "files_pca = [f for f in os.listdir(path_data + 'df_pca/') if f.endswith('_PCA_sum.csv')]\n",
    "    \n",
    "all_pca = np.zeros((len(files_pca),4))\n",
    "infos = np.array([])\n",
    "for i,f in enumerate(files_pca):\n",
    "    splits = [sp.split('_') for sp in f.split('=')]\n",
    "    s_splits = np.array((splits[1][0],splits[2][0]))\n",
    "    infos = np.vstack((infos,s_splits)) if np.size(infos) else np.array(s_splits)\n",
    "    \n",
    "    df = pd.read_csv(path_data+'df_pca/'+f, index_col=0)\n",
    "    df.columns = ['cos2','%var','%var_cum','pol_surf','circ_surf','x0','y0','avg_d']\n",
    "    sel = df[cols_to_sel].loc[['comp 2']].values[0]\n",
    "    all_pca[i,:] += sel\n",
    "\n",
    "data_df = np.concatenate((infos,all_pca), axis=1)\n",
    "df_all = pd.DataFrame(data=data_df, columns=['subject','stim']+cols_to_sel)\n",
    "print(df_all)\n",
    "df_all.to_csv(path_data+'Python/all_spaces_geometry.csv',index=False)"
   ]
  },
  {
   "cell_type": "markdown",
   "id": "2327a3cd",
   "metadata": {},
   "source": [
    "### Compare perceptual spaces' size and dispersion v=allmod\n",
    "Average distance and circle surface NOT included"
   ]
  },
  {
   "cell_type": "code",
   "execution_count": 110,
   "id": "545a9041",
   "metadata": {},
   "outputs": [],
   "source": [
    "files_pca = [f for f in os.listdir(path_data + 'df_pca/') if f.endswith('ALL_PCA_sum.csv')]\n",
    "    \n",
    "all_pca = np.zeros((len(files_pca),3))\n",
    "infos = np.array([])\n",
    "for i,f in enumerate(files_pca):\n",
    "    splits = [sp.split('_') for sp in f.split('=')]\n",
    "    s_splits = np.array((splits[1][0]))\n",
    "    infos = np.vstack((infos,s_splits)) if np.size(infos) else np.array(s_splits)\n",
    "    \n",
    "    df = pd.read_csv(path_data+'df_pca/'+f, index_col=0)\n",
    "    cols_to_sel = [c for c in df.columns if 'surf' in c]\n",
    "    sel = df[cols_to_sel].loc[['comp 2']].values[0]\n",
    "    all_pca[i,:] += sel\n",
    "\n",
    "data_df = np.concatenate((infos,all_pca), axis=1)\n",
    "df_all = pd.DataFrame(data=data_df, columns=['subject']+cols_to_sel)\n",
    "df_all.to_csv(path_data+'Python/all_spaces_geometry_v=allmod.csv',index=False)"
   ]
  },
  {
   "cell_type": "markdown",
   "id": "1d87f741",
   "metadata": {},
   "source": [
    "### Statistics and plots - spaces geometry "
   ]
  },
  {
   "cell_type": "code",
   "execution_count": 166,
   "id": "20bb2646",
   "metadata": {},
   "outputs": [
    {
     "name": "stdout",
     "output_type": "stream",
     "text": [
      ">> effect of surf ALL mod \n",
      "             variable      value  subjects\n",
      "0     surf poly  odor  12.332140  S20b-SCB\n",
      "1     surf poly  odor   6.269392   S23-SCB\n",
      "2     surf poly  odor   7.467699   S07-BCS\n",
      "3     surf poly  odor   8.313055   S31-CSB\n",
      "4     surf poly  odor  14.599307   S12-SCB\n",
      "..                ...        ...       ...\n",
      "139  surf poly  music  10.547275   S05-BCS\n",
      "140  surf poly  music  13.743209   S13-SCB\n",
      "141  surf poly  music   6.367777   S01-BSC\n",
      "142  surf poly  music   5.305469   S13-BCS\n",
      "143  surf poly  music   6.571744   S14-CBS\n",
      "\n",
      "[144 rows x 3 columns]\n",
      "\n",
      "=============\n",
      "ANOVA SUMMARY\n",
      "=============\n",
      "\n",
      "Source      ddof1    ddof2       F    p-unc    ng2    eps\n",
      "--------  -------  -------  ------  -------  -----  -----\n",
      "variable        2       94  18.423    0.000  0.195  0.997\n",
      "\n",
      "\n",
      "==============\n",
      "POST HOC TESTS\n",
      "==============\n",
      "\n",
      "Contrast    A                 B                 Paired    Parametric         T     dof  alternative      p-unc    p-corr  p-adjust         BF10    hedges\n",
      "----------  ----------------  ----------------  --------  ------------  ------  ------  -------------  -------  --------  ----------  ---------  --------\n",
      "variable    surf poly  face   surf poly  music  True      True          -1.116  47.000  two-sided        0.270     0.810  bonf            0.281    -0.200\n",
      "variable    surf poly  face   surf poly  odor   True      True          -5.692  47.000  two-sided        0.000     0.000  bonf        20720.000    -1.102\n",
      "variable    surf poly  music  surf poly  odor   True      True          -4.530  47.000  two-sided        0.000     0.000  bonf          532.952    -0.978\n",
      "\n"
     ]
    },
    {
     "data": {
      "image/png": "[encoded data removed]",
      "text/plain": [
       "<Figure size 600x400 with 1 Axes>"
      ]
     },
     "metadata": {},
     "output_type": "display_data"
    }
   ],
   "source": [
    "import pingouin as pg \n",
    "v = 'allmod'\n",
    "\n",
    "df_geo0 = pd.read_csv(path_data+'Python/all_spaces_geometry_v=allmod.csv')\n",
    "if v == 'allmod':\n",
    "    df_geo = df_geo0.iloc[:,1:].melt()\n",
    "    df_geo['subjects'] = list(df_geo0['subject'].values)*3\n",
    "\n",
    "    # Plot results \n",
    "    fig, axes = plt.subplots(nrows=1, ncols=1, figsize=(6,4))\n",
    "    print('>> effect of surf ALL mod ')\n",
    "    df_geo[['value','variable']].boxplot(ax=axes, by='variable')\n",
    "    print(df_geo)\n",
    "    anova = pg.rm_anova(data=df_geo, dv='value', within='variable',\n",
    "                    subject='subjects')\n",
    "    pg.print_table(anova, floatfmt='.3f')\n",
    "\n",
    "    if anova.iloc[0,4] < 0.05:\n",
    "        # Bonf-corrected post hocs with Hedges'g effect size\n",
    "        posthoc = pg.pairwise_tests(data=df_geo, dv='value', within='variable',\n",
    "                            subject='subjects', padjust='bonf')\n",
    "        pg.print_table(posthoc, floatfmt='.3f')\n",
    "    \n",
    "\n",
    "else:\n",
    "    # Plot results \n",
    "    fig, axes = plt.subplots(nrows=1, ncols=4, figsize=(20,4))\n",
    "    for i,c in enumerate(df_geo.columns[2:]):\n",
    "        print('>> effect of modality on ',c)\n",
    "        df_geo[[c,'stim']].boxplot(ax=axes[i], by='stim')\n",
    "        anova = pg.rm_anova(data=df_geo, dv=c, within='stim',\n",
    "                        subject='subject')\n",
    "        pg.print_table(anova, floatfmt='.3f')\n",
    "\n",
    "        if anova.iloc[0,4] < 0.05:\n",
    "            # Bonf-corrected post hocs with Hedges'g effect size\n",
    "            posthoc = pg.pairwise_tests(data=df_geo, dv=c, within='stim',\n",
    "                                subject='subject', padjust='bonf')\n",
    "            pg.print_table(posthoc, floatfmt='.3f')\n",
    "    "
   ]
  }
 ],
 "metadata": {
  "kernelspec": {
   "display_name": "behav",
   "language": "python",
   "name": "behav"
  },
  "language_info": {
   "codemirror_mode": {
    "name": "ipython",
    "version": 3
   },
   "file_extension": ".py",
   "mimetype": "text/x-python",
   "name": "python",
   "nbconvert_exporter": "python",
   "pygments_lexer": "ipython3",
   "version": "3.10.6"
  }
 },
 "nbformat": 4,
 "nbformat_minor": 5
}
