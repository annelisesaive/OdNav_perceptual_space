{
 "cells": [
  {
   "cell_type": "code",
   "execution_count": null,
   "id": "3aaa8fe6",
   "metadata": {},
   "outputs": [],
   "source": [
    "import pandas as pd\n",
    "import numpy as np\n",
    "import matplotlib.pyplot as plt\n",
    "from os import path\n",
    "from scipy import stats\n",
    "from itertools import product"
   ]
  },
  {
   "cell_type": "code",
   "execution_count": null,
   "id": "526acd9a",
   "metadata": {},
   "outputs": [],
   "source": [
    "path_eval = '/Users/alouette/Documents/Perceptual_Space_ALS/'"
   ]
  },
  {
   "cell_type": "markdown",
   "id": "f58e8c87",
   "metadata": {},
   "source": [
    "### Evaluation data (.csv) \n",
    "#### Emotionality, Hedonicity, Familiarity, Complexity\n",
    "Explore, clean the dataset (remove outliers)"
   ]
  },
  {
   "cell_type": "code",
   "execution_count": null,
   "id": "f49544ae",
   "metadata": {
    "scrolled": true
   },
   "outputs": [],
   "source": [
    "#evaluation data\n",
    "df_evals = pd.read_csv(path_eval+'all_evaluations.csv', index_col = 0)\n",
    "\n",
    "subjs = np.unique(df_evals['subject'])\n",
    "stims = np.unique(df_evals['stimulus_name'])\n",
    "print('>> evaluations for {} stims in {} subjs'.format(len(stims), len(subjs)))\n",
    "print(stims)\n",
    "\n",
    "#sanity checks of the data\n",
    "if df_evals.shape[0] != len(subjs)*len(stims):\n",
    "    print('missing rows in evals df')\n",
    "\n",
    "#dealing with missing evals & outliers\n",
    "evals = ['hedo','emo','fam','compl']\n",
    "df_na = df_evals[evals].isna()*1\n",
    "df_all = pd.concat([df_evals[['subject','stimulus_name','stimulus_type']],\n",
    "                    df_na], axis=1, join=\"inner\")\n",
    "\n",
    "df2 = df_all.groupby(['subject']).sum()\n",
    "df2_z = abs(stats.zscore(df2,axis=0))\n",
    "max_dev = 2\n",
    "df2_clean = df2[(df2_z < max_dev).all(axis=1)]\n",
    "print('{} subj outliers'.format((df2.shape[0] - df2_clean.shape[0])))\n",
    "print('total nb of subj = {}'.format(df2_clean.shape[0]))\n",
    "\n",
    "df2_clean.sum().plot(kind='bar',figsize=(5,4),title=\"# missing evals\")\n",
    "df2_clean.groupby(['subject']).sum().plot(kind='bar',figsize=(10,4),\n",
    "                                              title='#missing by subj')\n",
    "\n",
    "subj_c = df2_clean.index\n",
    "df3 = df_all[df_all.subject.isin(subj_c)]\n",
    "df3 = df3.groupby('stimulus_type').sum()\n",
    "df3.groupby(['stimulus_type']).sum().plot(kind='bar',figsize=(5,4),\n",
    "                                              title='#missing by subj')\n",
    "\n",
    "#filter and save clean data\n",
    "df_evals_c = df_evals[df_evals.subject.isin(subj_c)]\n",
    "df_evals_c.to_csv(path_eval+'all_evals_clean_n={}.csv'.format(str(df2_clean.shape[0])),\n",
    "                 index=None)"
   ]
  },
  {
   "cell_type": "markdown",
   "id": "509b2837",
   "metadata": {},
   "source": [
    "### Create df for PCA analyses \n",
    "#### One df by subject and modality (face, odor, music)"
   ]
  },
  {
   "cell_type": "code",
   "execution_count": null,
   "id": "0b598619",
   "metadata": {},
   "outputs": [],
   "source": [
    "df = pd.read_csv(path_eval+'all_evals_clean_n=48.csv')\n",
    "\n",
    "subjs = np.unique(df['subject'])\n",
    "s_type = np.unique(df['stimulus_type'])\n",
    "s_name = np.unique(df['stimulus_name'])\n",
    "cols_sel = ['hedo_scaled','fam_scaled','emo_scaled','compl_scaled',\n",
    "           'subject','stimulus_type','stimulus_name']\n",
    "\n",
    "#filter and save data for impute missing data (run in R)\n",
    "for s, t in product(subjs, s_type):\n",
    "    df_st = df[(df['subject'] == s)&(df['stimulus_type'] == t)][cols_sel]\n",
    "    df_st = df_st.sort_values(by='stimulus_name', axis=0, ascending=True)\n",
    "    df_st = df_st.sort_index(axis=1, ascending=False)\n",
    "    df_st.to_csv(path_eval+'df_pca/evals_su={}_stim={}_scaled.csv'.format(s,t),\n",
    "                 index=None)\n"
   ]
  }
 ],
 "metadata": {
  "kernelspec": {
   "display_name": "Python 3 (ipykernel)",
   "language": "python",
   "name": "python3"
  },
  "language_info": {
   "codemirror_mode": {
    "name": "ipython",
    "version": 3
   },
   "file_extension": ".py",
   "mimetype": "text/x-python",
   "name": "python",
   "nbconvert_exporter": "python",
   "pygments_lexer": "ipython3",
   "version": "3.9.12"
  }
 },
 "nbformat": 4,
 "nbformat_minor": 5
}
